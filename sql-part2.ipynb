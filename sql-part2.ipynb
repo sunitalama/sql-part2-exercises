{
    "metadata": {
        "kernelspec": {
            "name": "SQL",
            "display_name": "SQL",
            "language": "sql"
        },
        "language_info": {
            "name": "sql",
            "version": ""
        }
    },
    "nbformat_minor": 2,
    "nbformat": 4,
    "cells": [
        {
            "cell_type": "markdown",
            "source": [
                "# Exercises\n",
                "\n",
                "To get started with the exercises, go ahead and take a look at RideShareDB. This database was created with data from a dataset on [Kaggle](https://www.kaggle.com/fivethirtyeight/uber-pickups-in-new-york-city). The dataset was made using data obtained from the NYC Taxi and Limosine Commission or TLC. TLC tracks this data by base and even rideshare companies such as Uber and Lyft have assigned bases that each pickup must be attributed to. For the exercises, we will be using the `other-FHV-services-jan-july15` and `lyft` tables in RideShareDB. These tables include the data for each pickup attributed to a few other For-Hire Vehicles (FHV) services and Lyft. These tables do not include any data from Uber.\n",
                "\n",
                "## String Functions\n",
                "\n",
                "Write a query that returns the last 3 characters of the base name in `other-FHV-services-jan-july15`. Do you see anything that is a common abbreviation at the end of business names?"
            ],
            "metadata": {
                "azdata_cell_guid": "2b5a5976-8b51-4e24-a08d-234ef97f379a"
            },
            "attachments": {}
        },
        {
            "cell_type": "code",
            "source": [
                "\r\n",
                "SELECT top 5  base_name, RIGHT(base_name, 3) as 'abbr'\r\n",
                "FROM RideShareDB.dbo.other_FHV_services_jan_aug_2015\r\n",
                " "
            ],
            "metadata": {
                "azdata_cell_guid": "392f7b72-9acf-44a4-bb53-6c29090c5d75",
                "tags": [],
                "language": "sql"
            },
            "outputs": [
                {
                    "output_type": "display_data",
                    "data": {
                        "text/html": "(5 rows affected)"
                    },
                    "metadata": {}
                },
                {
                    "output_type": "display_data",
                    "data": {
                        "text/html": "Total execution time: 00:00:00.046"
                    },
                    "metadata": {}
                },
                {
                    "output_type": "execute_result",
                    "execution_count": 24,
                    "data": {
                        "application/vnd.dataresource+json": {
                            "schema": {
                                "fields": [
                                    {
                                        "name": "base_name"
                                    },
                                    {
                                        "name": "abbr"
                                    }
                                ]
                            },
                            "data": [
                                {
                                    "0": "LOVE CORP CAR INC",
                                    "1": "INC"
                                },
                                {
                                    "0": "NY ONE CORP CAR INC",
                                    "1": "INC"
                                },
                                {
                                    "0": "COMMUNITY CAR SVC CORP",
                                    "1": "ORP"
                                },
                                {
                                    "0": "CHARGE AND RIDE INC",
                                    "1": "INC"
                                },
                                {
                                    "0": "LIBERTY CAR SERVICE INC.",
                                    "1": "NC."
                                }
                            ]
                        },
                        "text/html": "<table><tr><th>base_name</th><th>abbr</th></tr><tr><td>LOVE CORP CAR INC</td><td>INC</td></tr><tr><td>NY ONE CORP CAR INC</td><td>INC</td></tr><tr><td>COMMUNITY CAR SVC CORP</td><td>ORP</td></tr><tr><td>CHARGE AND RIDE INC</td><td>INC</td></tr><tr><td>LIBERTY CAR SERVICE INC.</td><td>NC.</td></tr></table>"
                    },
                    "metadata": {}
                }
            ],
            "execution_count": 24
        },
        {
            "cell_type": "markdown",
            "source": [
                "The number of trips and the number of pickups are both stored as strings in `other-FHV-services-jan-july15`. This is because the data provided included spaces in some of the numbers. Write a query that returns the location of spaces in both of these columns."
            ],
            "metadata": {
                "azdata_cell_guid": "6c206898-77f4-4357-8d17-33192980f45d"
            },
            "attachments": {}
        },
        {
            "cell_type": "code",
            "source": [
                "SELECT  top 20 LTRIM(Number_of_Trips) as 'number of trips'\r\n",
                "FROM RideShareDB.dbo.other_FHV_services_jan_aug_2015\r\n",
                ""
            ],
            "metadata": {
                "azdata_cell_guid": "3c810c3d-4e66-447b-8326-19e59d8a1b88",
                "language": "sql",
                "tags": []
            },
            "outputs": [
                {
                    "output_type": "display_data",
                    "data": {
                        "text/html": "(20 rows affected)"
                    },
                    "metadata": {}
                },
                {
                    "output_type": "display_data",
                    "data": {
                        "text/html": "Total execution time: 00:00:00.043"
                    },
                    "metadata": {}
                },
                {
                    "output_type": "execute_result",
                    "metadata": {},
                    "execution_count": 16,
                    "data": {
                        "application/vnd.dataresource+json": {
                            "schema": {
                                "fields": [
                                    {
                                        "name": "number of trips"
                                    }
                                ]
                            },
                            "data": [
                                {
                                    "0": "26 "
                                },
                                {
                                    "0": "45 "
                                },
                                {
                                    "0": "731 "
                                },
                                {
                                    "0": "10 "
                                },
                                {
                                    "0": "814 "
                                },
                                {
                                    "0": "220 "
                                },
                                {
                                    "0": "36 "
                                },
                                {
                                    "0": "1,137 "
                                },
                                {
                                    "0": "236 "
                                },
                                {
                                    "0": "47 "
                                },
                                {
                                    "0": "1,792 "
                                },
                                {
                                    "0": "23 "
                                },
                                {
                                    "0": "83 "
                                },
                                {
                                    "0": "1,846 "
                                },
                                {
                                    "0": "57 "
                                },
                                {
                                    "0": "9 "
                                },
                                {
                                    "0": "4 "
                                },
                                {
                                    "0": "81 "
                                },
                                {
                                    "0": "1,765 "
                                },
                                {
                                    "0": "766 "
                                }
                            ]
                        },
                        "text/html": [
                            "<table>",
                            "<tr><th>number of trips</th></tr>",
                            "<tr><td>26 </td></tr>",
                            "<tr><td>45 </td></tr>",
                            "<tr><td>731 </td></tr>",
                            "<tr><td>10 </td></tr>",
                            "<tr><td>814 </td></tr>",
                            "<tr><td>220 </td></tr>",
                            "<tr><td>36 </td></tr>",
                            "<tr><td>1,137 </td></tr>",
                            "<tr><td>236 </td></tr>",
                            "<tr><td>47 </td></tr>",
                            "<tr><td>1,792 </td></tr>",
                            "<tr><td>23 </td></tr>",
                            "<tr><td>83 </td></tr>",
                            "<tr><td>1,846 </td></tr>",
                            "<tr><td>57 </td></tr>",
                            "<tr><td>9 </td></tr>",
                            "<tr><td>4 </td></tr>",
                            "<tr><td>81 </td></tr>",
                            "<tr><td>1,765 </td></tr>",
                            "<tr><td>766 </td></tr>",
                            "</table>"
                        ]
                    }
                }
            ],
            "execution_count": 16
        },
        {
            "cell_type": "markdown",
            "source": [
                "## Date Functions\n",
                "\n",
                "For ``other-FHV-services-jan-july15``, display the name of month of the pickup date and order in descending order. Is the result of this query what you expected?"
            ],
            "metadata": {
                "azdata_cell_guid": "b138ac53-9fff-4320-9ff1-08717873f2ee"
            },
            "attachments": {}
        },
        {
            "cell_type": "code",
            "source": [
                "SELECT top 30 DATENAME( MONTH ,Pick_Up_Date) as 'Month',Pick_Up_Date\r\n",
                "FROM RideShareDB.dbo.other_FHV_services_jan_aug_2015\r\n",
                "order by 'Month' desc"
            ],
            "metadata": {
                "azdata_cell_guid": "8abd404c-a360-4b10-8d6b-8b34ef763bc7",
                "tags": [],
                "language": "sql"
            },
            "outputs": [
                {
                    "output_type": "display_data",
                    "data": {
                        "text/html": "(30 rows affected)"
                    },
                    "metadata": {}
                },
                {
                    "output_type": "display_data",
                    "data": {
                        "text/html": "Total execution time: 00:00:00.074"
                    },
                    "metadata": {}
                },
                {
                    "output_type": "execute_result",
                    "execution_count": 50,
                    "data": {
                        "application/vnd.dataresource+json": {
                            "schema": {
                                "fields": [
                                    {
                                        "name": "Month"
                                    },
                                    {
                                        "name": "Pick_Up_Date"
                                    }
                                ]
                            },
                            "data": [
                                {
                                    "0": "May",
                                    "1": "2015-05-01"
                                },
                                {
                                    "0": "May",
                                    "1": "2015-05-01"
                                },
                                {
                                    "0": "May",
                                    "1": "2015-05-01"
                                },
                                {
                                    "0": "May",
                                    "1": "2015-05-01"
                                },
                                {
                                    "0": "May",
                                    "1": "2015-05-01"
                                },
                                {
                                    "0": "May",
                                    "1": "2015-05-01"
                                },
                                {
                                    "0": "May",
                                    "1": "2015-05-01"
                                },
                                {
                                    "0": "May",
                                    "1": "2015-05-01"
                                },
                                {
                                    "0": "May",
                                    "1": "2015-05-01"
                                },
                                {
                                    "0": "May",
                                    "1": "2015-05-01"
                                },
                                {
                                    "0": "May",
                                    "1": "2015-05-01"
                                },
                                {
                                    "0": "May",
                                    "1": "2015-05-01"
                                },
                                {
                                    "0": "May",
                                    "1": "2015-05-01"
                                },
                                {
                                    "0": "May",
                                    "1": "2015-05-01"
                                },
                                {
                                    "0": "May",
                                    "1": "2015-05-01"
                                },
                                {
                                    "0": "May",
                                    "1": "2015-05-01"
                                },
                                {
                                    "0": "May",
                                    "1": "2015-05-01"
                                },
                                {
                                    "0": "May",
                                    "1": "2015-05-01"
                                },
                                {
                                    "0": "May",
                                    "1": "2015-05-01"
                                },
                                {
                                    "0": "May",
                                    "1": "2015-05-01"
                                },
                                {
                                    "0": "May",
                                    "1": "2015-05-01"
                                },
                                {
                                    "0": "May",
                                    "1": "2015-05-01"
                                },
                                {
                                    "0": "May",
                                    "1": "2015-05-01"
                                },
                                {
                                    "0": "May",
                                    "1": "2015-05-01"
                                },
                                {
                                    "0": "May",
                                    "1": "2015-05-01"
                                },
                                {
                                    "0": "May",
                                    "1": "2015-05-01"
                                },
                                {
                                    "0": "May",
                                    "1": "2015-05-01"
                                },
                                {
                                    "0": "May",
                                    "1": "2015-05-01"
                                },
                                {
                                    "0": "May",
                                    "1": "2015-05-01"
                                },
                                {
                                    "0": "May",
                                    "1": "2015-05-01"
                                }
                            ]
                        },
                        "text/html": "<table><tr><th>Month</th><th>Pick_Up_Date</th></tr><tr><td>May</td><td>2015-05-01</td></tr><tr><td>May</td><td>2015-05-01</td></tr><tr><td>May</td><td>2015-05-01</td></tr><tr><td>May</td><td>2015-05-01</td></tr><tr><td>May</td><td>2015-05-01</td></tr><tr><td>May</td><td>2015-05-01</td></tr><tr><td>May</td><td>2015-05-01</td></tr><tr><td>May</td><td>2015-05-01</td></tr><tr><td>May</td><td>2015-05-01</td></tr><tr><td>May</td><td>2015-05-01</td></tr><tr><td>May</td><td>2015-05-01</td></tr><tr><td>May</td><td>2015-05-01</td></tr><tr><td>May</td><td>2015-05-01</td></tr><tr><td>May</td><td>2015-05-01</td></tr><tr><td>May</td><td>2015-05-01</td></tr><tr><td>May</td><td>2015-05-01</td></tr><tr><td>May</td><td>2015-05-01</td></tr><tr><td>May</td><td>2015-05-01</td></tr><tr><td>May</td><td>2015-05-01</td></tr><tr><td>May</td><td>2015-05-01</td></tr><tr><td>May</td><td>2015-05-01</td></tr><tr><td>May</td><td>2015-05-01</td></tr><tr><td>May</td><td>2015-05-01</td></tr><tr><td>May</td><td>2015-05-01</td></tr><tr><td>May</td><td>2015-05-01</td></tr><tr><td>May</td><td>2015-05-01</td></tr><tr><td>May</td><td>2015-05-01</td></tr><tr><td>May</td><td>2015-05-01</td></tr><tr><td>May</td><td>2015-05-01</td></tr><tr><td>May</td><td>2015-05-01</td></tr></table>"
                    },
                    "metadata": {}
                }
            ],
            "execution_count": 50
        },
        {
            "cell_type": "markdown",
            "source": [
                "Using `other-FHV-services-jan-july15`, write a query that returns the day number of the pickup date and month name and orders it in ascending order by day number."
            ],
            "metadata": {
                "azdata_cell_guid": "aa6bf15c-b847-45f0-ba0d-79c7636c4578"
            },
            "attachments": {}
        },
        {
            "cell_type": "code",
            "source": [
                "\r\n",
                "SELECT top 15 DATENAME( WEEKDAY,Pick_Up_Date) as 'Weekday', COUNT(Pick_Up_Date) as 'number of pickup', DATENAME( MONTH ,Pick_Up_Date) as 'Month'\r\n",
                "from RideShareDB.dbo.other_FHV_services_jan_aug_2015\r\n",
                "GROUP by Pick_Up_Date\r\n",
                "order by 'number of pickup' asc\r\n",
                ""
            ],
            "metadata": {
                "azdata_cell_guid": "46dcd617-8dcf-4c15-b5fa-c0ec04f2bf29",
                "language": "sql"
            },
            "outputs": [
                {
                    "output_type": "display_data",
                    "data": {
                        "text/html": "(15 rows affected)"
                    },
                    "metadata": {}
                },
                {
                    "output_type": "display_data",
                    "data": {
                        "text/html": "Total execution time: 00:00:00.070"
                    },
                    "metadata": {}
                },
                {
                    "output_type": "execute_result",
                    "execution_count": 51,
                    "data": {
                        "application/vnd.dataresource+json": {
                            "schema": {
                                "fields": [
                                    {
                                        "name": "Weekday"
                                    },
                                    {
                                        "name": "number of pickup"
                                    },
                                    {
                                        "name": "Month"
                                    }
                                ]
                            },
                            "data": [
                                {
                                    "0": "Saturday",
                                    "1": "3",
                                    "2": "August"
                                },
                                {
                                    "0": "Sunday",
                                    "1": "3",
                                    "2": "August"
                                },
                                {
                                    "0": "Tuesday",
                                    "1": "4",
                                    "2": "August"
                                },
                                {
                                    "0": "Wednesday",
                                    "1": "4",
                                    "2": "August"
                                },
                                {
                                    "0": "Saturday",
                                    "1": "4",
                                    "2": "August"
                                },
                                {
                                    "0": "Thursday",
                                    "1": "4",
                                    "2": "August"
                                },
                                {
                                    "0": "Monday",
                                    "1": "4",
                                    "2": "August"
                                },
                                {
                                    "0": "Saturday",
                                    "1": "4",
                                    "2": "August"
                                },
                                {
                                    "0": "Friday",
                                    "1": "4",
                                    "2": "August"
                                },
                                {
                                    "0": "Monday",
                                    "1": "4",
                                    "2": "August"
                                },
                                {
                                    "0": "Tuesday",
                                    "1": "4",
                                    "2": "August"
                                },
                                {
                                    "0": "Thursday",
                                    "1": "4",
                                    "2": "August"
                                },
                                {
                                    "0": "Sunday",
                                    "1": "5",
                                    "2": "August"
                                },
                                {
                                    "0": "Monday",
                                    "1": "5",
                                    "2": "August"
                                },
                                {
                                    "0": "Friday",
                                    "1": "5",
                                    "2": "August"
                                }
                            ]
                        },
                        "text/html": "<table><tr><th>Weekday</th><th>number of pickup</th><th>Month</th></tr><tr><td>Saturday</td><td>3</td><td>August</td></tr><tr><td>Sunday</td><td>3</td><td>August</td></tr><tr><td>Tuesday</td><td>4</td><td>August</td></tr><tr><td>Wednesday</td><td>4</td><td>August</td></tr><tr><td>Saturday</td><td>4</td><td>August</td></tr><tr><td>Thursday</td><td>4</td><td>August</td></tr><tr><td>Monday</td><td>4</td><td>August</td></tr><tr><td>Saturday</td><td>4</td><td>August</td></tr><tr><td>Friday</td><td>4</td><td>August</td></tr><tr><td>Monday</td><td>4</td><td>August</td></tr><tr><td>Tuesday</td><td>4</td><td>August</td></tr><tr><td>Thursday</td><td>4</td><td>August</td></tr><tr><td>Sunday</td><td>5</td><td>August</td></tr><tr><td>Monday</td><td>5</td><td>August</td></tr><tr><td>Friday</td><td>5</td><td>August</td></tr></table>"
                    },
                    "metadata": {}
                }
            ],
            "execution_count": 51
        },
        {
            "cell_type": "markdown",
            "source": [
                "## Aggregate Functions\n",
                "\n",
                "Write a query that returns the most easterly Lyft pickup."
            ],
            "metadata": {
                "azdata_cell_guid": "348342a2-6039-43b1-8461-841288deee94"
            },
            "attachments": {}
        },
        {
            "cell_type": "code",
            "source": [
                "SELECT Max(start_lng) as 'most easterly pickup'\r\n",
                "FROM RideShareDB.dbo.lyft"
            ],
            "metadata": {
                "azdata_cell_guid": "f2cb1b41-c92a-47ea-bd77-7bafd78af1d4",
                "tags": [],
                "language": "sql"
            },
            "outputs": [
                {
                    "output_type": "display_data",
                    "data": {
                        "text/html": "Warning: Null value is eliminated by an aggregate or other SET operation."
                    },
                    "metadata": {}
                },
                {
                    "output_type": "display_data",
                    "data": {
                        "text/html": "(1 row affected)"
                    },
                    "metadata": {}
                },
                {
                    "output_type": "display_data",
                    "data": {
                        "text/html": "Total execution time: 00:00:00.112"
                    },
                    "metadata": {}
                },
                {
                    "output_type": "execute_result",
                    "execution_count": 13,
                    "data": {
                        "application/vnd.dataresource+json": {
                            "schema": {
                                "fields": [
                                    {
                                        "name": "most easterly pickup"
                                    }
                                ]
                            },
                            "data": [
                                {
                                    "0": "-73.72315"
                                }
                            ]
                        },
                        "text/html": "<table><tr><th>most easterly pickup</th></tr><tr><td>-73.72315</td></tr></table>"
                    },
                    "metadata": {}
                }
            ],
            "execution_count": 13
        },
        {
            "cell_type": "markdown",
            "source": [
                "Write a query the returns the most northerly Lyft pickup."
            ],
            "metadata": {
                "azdata_cell_guid": "bd589862-044d-4909-8565-8aa4771d9c00"
            },
            "attachments": {}
        },
        {
            "cell_type": "code",
            "source": [
                "SELECT MAX(start_lat) as 'most northerly pickup'\r\n",
                "FROM RideShareDB.dbo.lyft"
            ],
            "metadata": {
                "azdata_cell_guid": "189b7c25-0dfa-4ca0-a683-d402b3875abd",
                "language": "sql"
            },
            "outputs": [
                {
                    "output_type": "display_data",
                    "data": {
                        "text/html": "Warning: Null value is eliminated by an aggregate or other SET operation."
                    },
                    "metadata": {}
                },
                {
                    "output_type": "display_data",
                    "data": {
                        "text/html": "(1 row affected)"
                    },
                    "metadata": {}
                },
                {
                    "output_type": "display_data",
                    "data": {
                        "text/html": "Total execution time: 00:00:00.158"
                    },
                    "metadata": {}
                },
                {
                    "output_type": "execute_result",
                    "execution_count": 11,
                    "data": {
                        "application/vnd.dataresource+json": {
                            "schema": {
                                "fields": [
                                    {
                                        "name": "most northerly pickup"
                                    }
                                ]
                            },
                            "data": [
                                {
                                    "0": "40.93562"
                                }
                            ]
                        },
                        "text/html": "<table><tr><th>most northerly pickup</th></tr><tr><td>40.93562</td></tr></table>"
                    },
                    "metadata": {}
                }
            ],
            "execution_count": 11
        },
        {
            "cell_type": "markdown",
            "source": [
                "Using ``other-FHV-services-jan-july15``, write a query that connects the the base number and the base name in a string that uses the following format: base\\_number: base\\_name."
            ],
            "metadata": {
                "azdata_cell_guid": "674f8758-14bf-4712-b029-0ad0447617fb"
            },
            "attachments": {}
        },
        {
            "cell_type": "code",
            "source": [
                "\r\n",
                "SELECT  top 5 \r\n",
                "CONCAT(base_number, ':' ,base_name) AS 'base number:basename'\r\n",
                "FROM  RideShareDB.dbo.other_FHV_services_jan_aug_2015;"
            ],
            "metadata": {
                "azdata_cell_guid": "f6f4b247-63c0-4997-8769-204e37a55c08",
                "language": "sql"
            },
            "outputs": [
                {
                    "output_type": "display_data",
                    "data": {
                        "text/html": "(5 rows affected)"
                    },
                    "metadata": {}
                },
                {
                    "output_type": "display_data",
                    "data": {
                        "text/html": "Total execution time: 00:00:00.050"
                    },
                    "metadata": {}
                },
                {
                    "output_type": "execute_result",
                    "metadata": {},
                    "execution_count": 15,
                    "data": {
                        "application/vnd.dataresource+json": {
                            "schema": {
                                "fields": [
                                    {
                                        "name": "base number:basename"
                                    }
                                ]
                            },
                            "data": [
                                {
                                    "0": "B00013:LOVE CORP CAR INC"
                                },
                                {
                                    "0": "B00014:NY ONE CORP CAR INC"
                                },
                                {
                                    "0": "B00029:COMMUNITY CAR SVC CORP"
                                },
                                {
                                    "0": "B00053:CHARGE AND RIDE INC"
                                },
                                {
                                    "0": "B00095:LIBERTY CAR SERVICE INC."
                                }
                            ]
                        },
                        "text/html": [
                            "<table>",
                            "<tr><th>base number:basename</th></tr>",
                            "<tr><td>B00013:LOVE CORP CAR INC</td></tr>",
                            "<tr><td>B00014:NY ONE CORP CAR INC</td></tr>",
                            "<tr><td>B00029:COMMUNITY CAR SVC CORP</td></tr>",
                            "<tr><td>B00053:CHARGE AND RIDE INC</td></tr>",
                            "<tr><td>B00095:LIBERTY CAR SERVICE INC.</td></tr>",
                            "</table>"
                        ]
                    }
                }
            ],
            "execution_count": 15
        }
    ]
}